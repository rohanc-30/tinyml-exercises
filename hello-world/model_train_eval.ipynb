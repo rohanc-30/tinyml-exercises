{
  "nbformat": 4,
  "nbformat_minor": 0,
  "metadata": {
    "colab": {
      "provenance": []
    },
    "kernelspec": {
      "name": "python3",
      "display_name": "Python 3"
    },
    "language_info": {
      "name": "python"
    }
  },
  "cells": [
    {
      "cell_type": "code",
      "execution_count": 2,
      "metadata": {
        "id": "oHBKn4S6FCXx"
      },
      "outputs": [],
      "source": [
        "# Import statements\n",
        "import torch\n",
        "import torch.nn as nn\n",
        "import torch.nn.functional as F\n",
        "import pandas as pd\n",
        "import numpy as np\n",
        "import math\n",
        "import matplotlib.pyplot as plt"
      ]
    },
    {
      "cell_type": "code",
      "source": [
        "# Define a few model hyperparameters\n",
        "activation = nn.ReLU()\n",
        "num_hiddens = 2\n",
        "hidden_size = 16\n",
        "\n",
        "# Define model architecture\n",
        "model_args = [nn.Linear(1, hidden_size)]\n",
        "for i in range(num_hiddens - 1):\n",
        "    model_args.append(activation)\n",
        "    model_args.append(nn.Linear(hidden_size, hidden_size))\n",
        "model_args.append(activation)\n",
        "model_args.append(nn.Linear(hidden_size, 1))\n",
        "model = nn.Sequential(*model_args)"
      ],
      "metadata": {
        "colab": {
          "base_uri": "https://localhost:8080/"
        },
        "id": "5PTQZlk2FQQx",
        "outputId": "4ccea1d6-7a72-468f-db9a-f9ddd675e1b9"
      },
      "execution_count": 18,
      "outputs": [
        {
          "output_type": "execute_result",
          "data": {
            "text/plain": [
              "tensor([-0.0310], grad_fn=<ViewBackward0>)"
            ]
          },
          "metadata": {},
          "execution_count": 18
        }
      ]
    },
    {
      "cell_type": "code",
      "source": [
        "# Build dataloaders\n"
      ],
      "metadata": {
        "id": "Nb3mOE3iIJ5q"
      },
      "execution_count": null,
      "outputs": []
    }
  ]
}