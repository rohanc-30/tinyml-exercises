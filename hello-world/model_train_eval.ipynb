{
  "nbformat": 4,
  "nbformat_minor": 0,
  "metadata": {
    "colab": {
      "provenance": []
    },
    "kernelspec": {
      "name": "python3",
      "display_name": "Python 3"
    },
    "language_info": {
      "name": "python"
    }
  },
  "cells": [
    {
      "cell_type": "code",
      "execution_count": 1,
      "metadata": {
        "id": "oHBKn4S6FCXx"
      },
      "outputs": [],
      "source": [
        "# Import statements\n",
        "import torch\n",
        "import torch.nn as nn\n",
        "import torch.nn.functional as F\n",
        "import pandas as pd\n",
        "import numpy as np\n",
        "import math\n",
        "import matplotlib.pyplot as plt"
      ]
    },
    {
      "cell_type": "code",
      "source": [
        "# Define a few hyperparameters\n",
        "activation = nn.ReLU()\n",
        "num_hiddens = 2\n",
        "hidden_size = 16\n",
        "batch_size = 64\n",
        "\n",
        "# Define model architecture\n",
        "model_args = [nn.Linear(1, hidden_size)]\n",
        "for i in range(num_hiddens - 1):\n",
        "    model_args.append(activation)\n",
        "    model_args.append(nn.Linear(hidden_size, hidden_size))\n",
        "model_args.append(activation)\n",
        "model_args.append(nn.Linear(hidden_size, 1))\n",
        "model = nn.Sequential(*model_args)"
      ],
      "metadata": {
        "id": "5PTQZlk2FQQx"
      },
      "execution_count": 2,
      "outputs": []
    },
    {
      "cell_type": "code",
      "source": [
        "# Custom dataset class to handle our data\n",
        "class CartesianDataset(torch.utils.data.Dataset):\n",
        "    def __init__(self, csv):\n",
        "        self.df = pd.read_csv(csv)\n",
        "        self.x = self.df['x']\n",
        "        self.y = self.df['y']\n",
        "        assert len(self.x) == len(self.y)\n",
        "\n",
        "    def __getitem__(self, index):\n",
        "        return self.x[index], self.y[index]\n",
        "\n",
        "    def __len__(self):\n",
        "        return len(self.x)\n",
        "\n",
        "# Create appropriate datasets\n",
        "train_dataset = CartesianDataset('data/train.csv')\n",
        "val_dataset = CartesianDataset('data/val.csv')\n",
        "test_dataset = CartesianDataset('data/test.csv')\n",
        "\n",
        "# Create corresponding dataloaders\n",
        "train_dataloader = torch.utils.data.DataLoader(train_dataset, batch_size=batch_size, shuffle=True)\n",
        "val_dataloader = torch.utils.data.DataLoader(val_dataset, batch_size=batch_size, shuffle=True)\n",
        "test_dataloader = torch.utils.data.DataLoader(test_dataset, batch_size=batch_size, shuffle=True)"
      ],
      "metadata": {
        "colab": {
          "base_uri": "https://localhost:8080/"
        },
        "id": "Nb3mOE3iIJ5q",
        "outputId": "9deb3716-784d-429f-b28b-6daa0e122eb1"
      },
      "execution_count": 6,
      "outputs": [
        {
          "output_type": "stream",
          "name": "stdout",
          "text": [
            "0.3997064213540208 0.2675710668025198\n"
          ]
        }
      ]
    }
  ]
}